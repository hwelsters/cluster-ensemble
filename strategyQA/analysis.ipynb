{
 "cells": [
  {
   "attachments": {},
   "cell_type": "markdown",
   "metadata": {},
   "source": [
    "# **Analysis**"
   ]
  },
  {
   "attachments": {},
   "cell_type": "markdown",
   "metadata": {},
   "source": [
    "## **0. Configure environment**\n",
    "### **0.1 Install all dependencies**"
   ]
  },
  {
   "cell_type": "code",
   "execution_count": 22,
   "metadata": {},
   "outputs": [],
   "source": [
    "# %%capture\n",
    "# %pip install pandas==2.0.1\n",
    "# %pip install seaborn==0.12.2\n",
    "# %pip install sentence-transformers==2.2.2"
   ]
  },
  {
   "attachments": {},
   "cell_type": "markdown",
   "metadata": {},
   "source": [
    "### **0.2 Import all the libraries needed for this notebook**"
   ]
  },
  {
   "cell_type": "code",
   "execution_count": 23,
   "metadata": {},
   "outputs": [],
   "source": [
    "# TO AID WITH REPRODUCIBILITY...\n",
    "# ENVIRONMENT ============================= #\n",
    "# Python                             3.11.3 #\n",
    "#                                           #\n",
    "# LIBRARIES ------------------------------- #\n",
    "# pandas                              2.0.1 #\n",
    "# seaborn                            0.12.2 #\n",
    "# sentence-transformers               2.2.2 #\n",
    "# ========================================= #\n",
    "\n",
    "# python libraries ------------------------ #\n",
    "import re\n",
    "import os\n",
    "import random\n",
    "\n",
    "# pandas ---------------------------------- #\n",
    "import pandas\n",
    "\n",
    "# seaborn --------------------------------- #\n",
    "import seaborn\n",
    "\n",
    "# sentence_transformers ------------------- #\n",
    "from sentence_transformers import SentenceTransformer, util\n",
    "\n",
    "import numpy as np\n",
    "from sklearn.cluster import KMeans\n",
    "from matplotlib import pyplot"
   ]
  },
  {
   "attachments": {},
   "cell_type": "markdown",
   "metadata": {},
   "source": [
    "### **0.3 Specify all needed constants**\n",
    "This allows the notebook to be configured in a single spot rather than having to jump around the code base."
   ]
  },
  {
   "cell_type": "code",
   "execution_count": 24,
   "metadata": {},
   "outputs": [],
   "source": [
    "# file paths ------------------------------ #\n",
    "GROUND_TRUTH_FILE_PATH = 'in/ground.json'\n",
    "\n",
    "RESPONSES_FILE_PATH = f'out/1-base.jsonl'\n",
    "# RESPONSES_FILE_PATH = f'out/1-baseline-temp-0.jsonl'\n",
    "# RESPONSES_FILE_PATH = f'out/1-baseline-top-p-0.1.jsonl'\n",
    "\n",
    "GRADED_FILE_PATH = f'out/2-graded.jsonl'\n",
    "EMBEDDING_FILE_PATH = f'out/3-embeddings.jsonl'\n",
    "\n",
    "GROUND_INDEX = 'qid'\n",
    "RESPONSES_INDEX = 'question_id'\n",
    "\n",
    "CHOICE_COLUMN = 'choices'\n",
    "ANSWER_COLUMN = 'answer'\n",
    "\n",
    "RESPONSES_COLUMNS_TO_KEEP = ['question_id', 'choices', 'usage']\n",
    "GROUND_COLUMNS_TO_KEEP = ['qid', 'answer']\n",
    "\n",
    "SAMPLE_COLUMN = 'sample_[index]'\n",
    "\n",
    "N_JOBS = 20\n",
    "\n",
    "ALL_MIN_LM_16 = \"all_min_lm_16\"\n",
    "ALL_MPNET_BASE_V2 = \"all-mpnet-base-v2\""
   ]
  },
  {
   "cell_type": "code",
   "execution_count": 25,
   "metadata": {},
   "outputs": [],
   "source": [
    "def sample_column(index):\n",
    "    return f'sample_{index}'\n",
    "\n",
    "def correct_column(index):\n",
    "    return f'{sample_column(index)}__is_correct'\n",
    "\n",
    "def embedding_column(index, transformer_name):\n",
    "    return f'{sample_column(index)}__{transformer_name}'"
   ]
  },
  {
   "attachments": {},
   "cell_type": "markdown",
   "metadata": {},
   "source": [
    "## **1. Load data**\n",
    "### **1.1 Load data from files**"
   ]
  },
  {
   "cell_type": "code",
   "execution_count": 26,
   "metadata": {},
   "outputs": [
    {
     "data": {
      "text/html": [
       "<div>\n",
       "<style scoped>\n",
       "    .dataframe tbody tr th:only-of-type {\n",
       "        vertical-align: middle;\n",
       "    }\n",
       "\n",
       "    .dataframe tbody tr th {\n",
       "        vertical-align: top;\n",
       "    }\n",
       "\n",
       "    .dataframe thead th {\n",
       "        text-align: right;\n",
       "    }\n",
       "</style>\n",
       "<table border=\"1\" class=\"dataframe\">\n",
       "  <thead>\n",
       "    <tr style=\"text-align: right;\">\n",
       "      <th></th>\n",
       "      <th>qid</th>\n",
       "      <th>answer</th>\n",
       "    </tr>\n",
       "  </thead>\n",
       "  <tbody>\n",
       "    <tr>\n",
       "      <th>0</th>\n",
       "      <td>e0044a7b4d146d611e73</td>\n",
       "      <td>False</td>\n",
       "    </tr>\n",
       "  </tbody>\n",
       "</table>\n",
       "</div>"
      ],
      "text/plain": [
       "                    qid  answer\n",
       "0  e0044a7b4d146d611e73   False"
      ]
     },
     "execution_count": 26,
     "metadata": {},
     "output_type": "execute_result"
    }
   ],
   "source": [
    "ground = pandas.read_json(GROUND_TRUTH_FILE_PATH)\n",
    "ground = ground[GROUND_COLUMNS_TO_KEEP]\n",
    "ground.head(1)"
   ]
  },
  {
   "cell_type": "code",
   "execution_count": 27,
   "metadata": {},
   "outputs": [
    {
     "data": {
      "text/html": [
       "<div>\n",
       "<style scoped>\n",
       "    .dataframe tbody tr th:only-of-type {\n",
       "        vertical-align: middle;\n",
       "    }\n",
       "\n",
       "    .dataframe tbody tr th {\n",
       "        vertical-align: top;\n",
       "    }\n",
       "\n",
       "    .dataframe thead th {\n",
       "        text-align: right;\n",
       "    }\n",
       "</style>\n",
       "<table border=\"1\" class=\"dataframe\">\n",
       "  <thead>\n",
       "    <tr style=\"text-align: right;\">\n",
       "      <th></th>\n",
       "      <th>question_id</th>\n",
       "      <th>choices</th>\n",
       "      <th>usage</th>\n",
       "      <th>answer</th>\n",
       "    </tr>\n",
       "  </thead>\n",
       "  <tbody>\n",
       "    <tr>\n",
       "      <th>0</th>\n",
       "      <td>c69397b4341b65ed080f</td>\n",
       "      <td>[{'message': {'role': 'assistant', 'content': ...</td>\n",
       "      <td>{'prompt_tokens': 111, 'completion_tokens': 35...</td>\n",
       "      <td>True</td>\n",
       "    </tr>\n",
       "  </tbody>\n",
       "</table>\n",
       "</div>"
      ],
      "text/plain": [
       "            question_id                                            choices   \n",
       "0  c69397b4341b65ed080f  [{'message': {'role': 'assistant', 'content': ...  \\\n",
       "\n",
       "                                               usage  answer  \n",
       "0  {'prompt_tokens': 111, 'completion_tokens': 35...    True  "
      ]
     },
     "execution_count": 27,
     "metadata": {},
     "output_type": "execute_result"
    }
   ],
   "source": [
    "responses = pandas.read_json(RESPONSES_FILE_PATH, lines=True)\n",
    "responses = responses[RESPONSES_COLUMNS_TO_KEEP]\n",
    "responses = responses.join(other=ground.set_index(GROUND_INDEX), on=RESPONSES_INDEX)\n",
    "responses.head(1)"
   ]
  },
  {
   "attachments": {},
   "cell_type": "markdown",
   "metadata": {},
   "source": [
    "### **1.2 Extract choices into individual columns**"
   ]
  },
  {
   "cell_type": "code",
   "execution_count": 28,
   "metadata": {},
   "outputs": [
    {
     "data": {
      "text/html": [
       "<div>\n",
       "<style scoped>\n",
       "    .dataframe tbody tr th:only-of-type {\n",
       "        vertical-align: middle;\n",
       "    }\n",
       "\n",
       "    .dataframe tbody tr th {\n",
       "        vertical-align: top;\n",
       "    }\n",
       "\n",
       "    .dataframe thead th {\n",
       "        text-align: right;\n",
       "    }\n",
       "</style>\n",
       "<table border=\"1\" class=\"dataframe\">\n",
       "  <thead>\n",
       "    <tr style=\"text-align: right;\">\n",
       "      <th></th>\n",
       "      <th>question_id</th>\n",
       "      <th>choices</th>\n",
       "      <th>usage</th>\n",
       "      <th>answer</th>\n",
       "      <th>sample_0</th>\n",
       "      <th>sample_1</th>\n",
       "      <th>sample_2</th>\n",
       "      <th>sample_3</th>\n",
       "      <th>sample_4</th>\n",
       "      <th>sample_5</th>\n",
       "      <th>...</th>\n",
       "      <th>sample_40</th>\n",
       "      <th>sample_41</th>\n",
       "      <th>sample_42</th>\n",
       "      <th>sample_43</th>\n",
       "      <th>sample_44</th>\n",
       "      <th>sample_45</th>\n",
       "      <th>sample_46</th>\n",
       "      <th>sample_47</th>\n",
       "      <th>sample_48</th>\n",
       "      <th>sample_49</th>\n",
       "    </tr>\n",
       "  </thead>\n",
       "  <tbody>\n",
       "    <tr>\n",
       "      <th>0</th>\n",
       "      <td>c69397b4341b65ed080f</td>\n",
       "      <td>[{'message': {'role': 'assistant', 'content': ...</td>\n",
       "      <td>{'prompt_tokens': 111, 'completion_tokens': 35...</td>\n",
       "      <td>True</td>\n",
       "      <td>The answer is Yes.</td>\n",
       "      <td>The answer is Yes.</td>\n",
       "      <td>The answer is Yes.</td>\n",
       "      <td>The answer is Yes.</td>\n",
       "      <td>The answer is Yes.</td>\n",
       "      <td>The answer is Yes.</td>\n",
       "      <td>...</td>\n",
       "      <td>The answer is Yes.</td>\n",
       "      <td>The answer is Yes.</td>\n",
       "      <td>The answer is Yes.</td>\n",
       "      <td>The answer is Yes.</td>\n",
       "      <td>The answer is Yes.</td>\n",
       "      <td>The answer is Yes.</td>\n",
       "      <td>The answer is yes.</td>\n",
       "      <td>The answer is Yes.</td>\n",
       "      <td>The answer is Yes.</td>\n",
       "      <td>The answer is Yes.</td>\n",
       "    </tr>\n",
       "  </tbody>\n",
       "</table>\n",
       "<p>1 rows × 54 columns</p>\n",
       "</div>"
      ],
      "text/plain": [
       "            question_id                                            choices   \n",
       "0  c69397b4341b65ed080f  [{'message': {'role': 'assistant', 'content': ...  \\\n",
       "\n",
       "                                               usage  answer   \n",
       "0  {'prompt_tokens': 111, 'completion_tokens': 35...    True  \\\n",
       "\n",
       "             sample_0            sample_1            sample_2   \n",
       "0  The answer is Yes.  The answer is Yes.  The answer is Yes.  \\\n",
       "\n",
       "             sample_3            sample_4            sample_5  ...   \n",
       "0  The answer is Yes.  The answer is Yes.  The answer is Yes.  ...  \\\n",
       "\n",
       "            sample_40           sample_41           sample_42   \n",
       "0  The answer is Yes.  The answer is Yes.  The answer is Yes.  \\\n",
       "\n",
       "            sample_43           sample_44           sample_45   \n",
       "0  The answer is Yes.  The answer is Yes.  The answer is Yes.  \\\n",
       "\n",
       "            sample_46           sample_47           sample_48   \n",
       "0  The answer is yes.  The answer is Yes.  The answer is Yes.  \\\n",
       "\n",
       "            sample_49  \n",
       "0  The answer is Yes.  \n",
       "\n",
       "[1 rows x 54 columns]"
      ]
     },
     "execution_count": 28,
     "metadata": {},
     "output_type": "execute_result"
    }
   ],
   "source": [
    "def extract_choices(row):\n",
    "    choices = row[CHOICE_COLUMN]\n",
    "    random.shuffle(choices)\n",
    "    for index in range(len(choices)): \n",
    "        row[sample_column(index)] = choices[index]['message']['content']\n",
    "    return row\n",
    "\n",
    "responses = responses.apply(lambda row : extract_choices(row), axis=1)\n",
    "responses.head(1)"
   ]
  },
  {
   "attachments": {},
   "cell_type": "markdown",
   "metadata": {},
   "source": [
    "### **1.3 Compute API costs**"
   ]
  },
  {
   "cell_type": "code",
   "execution_count": 29,
   "metadata": {},
   "outputs": [
    {
     "name": "stdout",
     "output_type": "stream",
     "text": [
      "TOTAL TOKENS: 646381\n",
      "TOTAL COST  : 1.292762\n"
     ]
    }
   ],
   "source": [
    "total_tokens = responses['usage'].apply(lambda row : row['total_tokens']).sum()\n",
    "total_cost = total_tokens / 1000 * 0.002\n",
    "print(\"TOTAL TOKENS:\", total_tokens)\n",
    "print(\"TOTAL COST  :\", total_cost)"
   ]
  },
  {
   "attachments": {},
   "cell_type": "markdown",
   "metadata": {},
   "source": [
    "## **2. Grading**\n",
    "### **2.1 Retrieve cached results (if they exist)**"
   ]
  },
  {
   "cell_type": "code",
   "execution_count": 30,
   "metadata": {},
   "outputs": [],
   "source": [
    "if not os.path.isfile(GRADED_FILE_PATH): responses.to_json(GRADED_FILE_PATH, orient='records', lines=True)"
   ]
  },
  {
   "attachments": {},
   "cell_type": "markdown",
   "metadata": {},
   "source": [
    "### **2.2 Evaluate ChatGPT's response**\n",
    "In our prompts to ChatGPT, we specified for ChatGPT to end its response with the phrase:  \n",
    "'The answer is...', we look for this string in the final answer and check for the words yes or no after the sentence."
   ]
  },
  {
   "cell_type": "code",
   "execution_count": 31,
   "metadata": {},
   "outputs": [
    {
     "data": {
      "text/html": [
       "<div>\n",
       "<style scoped>\n",
       "    .dataframe tbody tr th:only-of-type {\n",
       "        vertical-align: middle;\n",
       "    }\n",
       "\n",
       "    .dataframe tbody tr th {\n",
       "        vertical-align: top;\n",
       "    }\n",
       "\n",
       "    .dataframe thead th {\n",
       "        text-align: right;\n",
       "    }\n",
       "</style>\n",
       "<table border=\"1\" class=\"dataframe\">\n",
       "  <thead>\n",
       "    <tr style=\"text-align: right;\">\n",
       "      <th></th>\n",
       "      <th>answer</th>\n",
       "      <th>choices</th>\n",
       "      <th>question_id</th>\n",
       "      <th>sample_0</th>\n",
       "      <th>sample_0__is_correct</th>\n",
       "      <th>sample_1</th>\n",
       "      <th>sample_10</th>\n",
       "      <th>sample_10__is_correct</th>\n",
       "      <th>sample_11</th>\n",
       "      <th>sample_11__is_correct</th>\n",
       "      <th>...</th>\n",
       "      <th>sample_5__is_correct</th>\n",
       "      <th>sample_6</th>\n",
       "      <th>sample_6__is_correct</th>\n",
       "      <th>sample_7</th>\n",
       "      <th>sample_7__is_correct</th>\n",
       "      <th>sample_8</th>\n",
       "      <th>sample_8__is_correct</th>\n",
       "      <th>sample_9</th>\n",
       "      <th>sample_9__is_correct</th>\n",
       "      <th>usage</th>\n",
       "    </tr>\n",
       "  </thead>\n",
       "  <tbody>\n",
       "    <tr>\n",
       "      <th>0</th>\n",
       "      <td>True</td>\n",
       "      <td>[{'message': {'role': 'assistant', 'content': ...</td>\n",
       "      <td>c69397b4341b65ed080f</td>\n",
       "      <td>The answer is Yes.</td>\n",
       "      <td>1</td>\n",
       "      <td>The answer is Yes.</td>\n",
       "      <td>The answer is Yes.</td>\n",
       "      <td>1</td>\n",
       "      <td>The answer is: Yes.</td>\n",
       "      <td>1</td>\n",
       "      <td>...</td>\n",
       "      <td>1</td>\n",
       "      <td>The answer is Yes.</td>\n",
       "      <td>1</td>\n",
       "      <td>The answer is yes.</td>\n",
       "      <td>1</td>\n",
       "      <td>The answer is Yes.</td>\n",
       "      <td>1</td>\n",
       "      <td>Yes, the language used in Saint Vincent and th...</td>\n",
       "      <td>1</td>\n",
       "      <td>{'prompt_tokens': 111, 'completion_tokens': 35...</td>\n",
       "    </tr>\n",
       "  </tbody>\n",
       "</table>\n",
       "<p>1 rows × 104 columns</p>\n",
       "</div>"
      ],
      "text/plain": [
       "   answer                                            choices   \n",
       "0    True  [{'message': {'role': 'assistant', 'content': ...  \\\n",
       "\n",
       "            question_id            sample_0  sample_0__is_correct   \n",
       "0  c69397b4341b65ed080f  The answer is Yes.                     1  \\\n",
       "\n",
       "             sample_1           sample_10  sample_10__is_correct   \n",
       "0  The answer is Yes.  The answer is Yes.                      1  \\\n",
       "\n",
       "             sample_11  sample_11__is_correct  ... sample_5__is_correct   \n",
       "0  The answer is: Yes.                      1  ...                    1  \\\n",
       "\n",
       "             sample_6 sample_6__is_correct            sample_7   \n",
       "0  The answer is Yes.                    1  The answer is yes.  \\\n",
       "\n",
       "  sample_7__is_correct            sample_8 sample_8__is_correct   \n",
       "0                    1  The answer is Yes.                    1  \\\n",
       "\n",
       "                                            sample_9 sample_9__is_correct   \n",
       "0  Yes, the language used in Saint Vincent and th...                    1  \\\n",
       "\n",
       "                                               usage  \n",
       "0  {'prompt_tokens': 111, 'completion_tokens': 35...  \n",
       "\n",
       "[1 rows x 104 columns]"
      ]
     },
     "execution_count": 31,
     "metadata": {},
     "output_type": "execute_result"
    }
   ],
   "source": [
    "def is_choice_correct(choice : str, answer : bool): \n",
    "    lowered_choice = choice.lower()\n",
    "    extracted_response = str(re.search(r'the answer is.*', lowered_choice))\n",
    "\n",
    "    result = None\n",
    "    if answer: result = extracted_response.count('yes') > 0\n",
    "    else: result = extracted_response.count('no') > 0\n",
    "\n",
    "    if result: return 1\n",
    "    else: return 0\n",
    "\n",
    "def grade_choices(row : pandas.Series):\n",
    "    choices = row[CHOICE_COLUMN]\n",
    "    for index in range(len(choices)): \n",
    "        if correct_column(index) in set(row.keys()): continue\n",
    "        row[correct_column(index)] = is_choice_correct(row[sample_column(index)], row[ANSWER_COLUMN])\n",
    "    return row\n",
    "\n",
    "graded = pandas.read_json(GRADED_FILE_PATH, lines=True)\n",
    "graded = graded.combine_first(responses)\n",
    "graded = graded.apply(lambda row : grade_choices(row), axis=1)\n",
    "graded.head(1)"
   ]
  },
  {
   "attachments": {},
   "cell_type": "markdown",
   "metadata": {},
   "source": [
    "### **2.3 Cache results**"
   ]
  },
  {
   "cell_type": "code",
   "execution_count": 32,
   "metadata": {},
   "outputs": [],
   "source": [
    "graded.to_json(GRADED_FILE_PATH, orient='records', lines=True)"
   ]
  },
  {
   "attachments": {},
   "cell_type": "markdown",
   "metadata": {},
   "source": [
    "## **3. Data exploration**"
   ]
  },
  {
   "cell_type": "code",
   "execution_count": 33,
   "metadata": {},
   "outputs": [
    {
     "data": {
      "text/plain": [
       "[Text(0, 0.5, 'Number of correct samples')]"
      ]
     },
     "execution_count": 33,
     "metadata": {},
     "output_type": "execute_result"
    },
    {
     "data": {
      "image/png": "[encoded data removed]",
      "text/plain": [
       "<Figure size 640x480 with 1 Axes>"
      ]
     },
     "metadata": {},
     "output_type": "display_data"
    }
   ],
   "source": [
    "def get_choice_correct_count(row):\n",
    "    count = 0\n",
    "    for index in range(N_JOBS): \n",
    "        count += row[correct_column(index)]\n",
    "    return count\n",
    "\n",
    "counts = graded.apply(lambda row : get_choice_correct_count(row), axis=1)\n",
    "stats = counts.value_counts().sort_index()\n",
    "barplot = seaborn.barplot(x=stats.index, y=stats.values)\n",
    "barplot.set(title=\"Number of correct samples distribution\")\n",
    "barplot.set(xlabel=\"Number of correct samples\")\n",
    "barplot.set(ylabel=\"Number of correct samples\")\n",
    "# for i in barplot.containers:\n",
    "#     barplot.bar_label(i,)"
   ]
  },
  {
   "cell_type": "code",
   "execution_count": 34,
   "metadata": {},
   "outputs": [],
   "source": [
    "# graded['counts'] = counts\n",
    "# graded.to_json('a.jsonl', lines=True, orient='records')"
   ]
  },
  {
   "cell_type": "code",
   "execution_count": 35,
   "metadata": {},
   "outputs": [
    {
     "data": {
      "text/plain": [
       "379.2"
      ]
     },
     "execution_count": 35,
     "metadata": {},
     "output_type": "execute_result"
    }
   ],
   "source": [
    "(pandas.Series(stats.index) * stats.values).sum() / N_JOBS"
   ]
  },
  {
   "attachments": {},
   "cell_type": "markdown",
   "metadata": {},
   "source": [
    "## **4. Embedding**\n",
    "### **4.1 Retrieve cache results (if they exist)**"
   ]
  },
  {
   "cell_type": "code",
   "execution_count": 36,
   "metadata": {},
   "outputs": [],
   "source": [
    "if not os.path.isfile(EMBEDDING_FILE_PATH): graded.to_json(EMBEDDING_FILE_PATH, orient='records', lines=True)"
   ]
  },
  {
   "attachments": {},
   "cell_type": "markdown",
   "metadata": {},
   "source": [
    "### **4.2 Initialize all the transformers that will be used**"
   ]
  },
  {
   "cell_type": "code",
   "execution_count": 37,
   "metadata": {},
   "outputs": [],
   "source": [
    "all_mini_lm_l6_v2 = SentenceTransformer('sentence-transformers/all-MiniLM-L6-v2')"
   ]
  },
  {
   "cell_type": "code",
   "execution_count": 38,
   "metadata": {},
   "outputs": [
    {
     "data": {
      "text/html": [
       "<div>\n",
       "<style scoped>\n",
       "    .dataframe tbody tr th:only-of-type {\n",
       "        vertical-align: middle;\n",
       "    }\n",
       "\n",
       "    .dataframe tbody tr th {\n",
       "        vertical-align: top;\n",
       "    }\n",
       "\n",
       "    .dataframe thead th {\n",
       "        text-align: right;\n",
       "    }\n",
       "</style>\n",
       "<table border=\"1\" class=\"dataframe\">\n",
       "  <thead>\n",
       "    <tr style=\"text-align: right;\">\n",
       "      <th></th>\n",
       "      <th>answer</th>\n",
       "      <th>choices</th>\n",
       "      <th>question_id</th>\n",
       "      <th>sample_0</th>\n",
       "      <th>sample_0__all_min_lm_16</th>\n",
       "      <th>sample_0__is_correct</th>\n",
       "      <th>sample_1</th>\n",
       "      <th>sample_10</th>\n",
       "      <th>sample_10__all_min_lm_16</th>\n",
       "      <th>sample_10__is_correct</th>\n",
       "      <th>...</th>\n",
       "      <th>sample_7</th>\n",
       "      <th>sample_7__all_min_lm_16</th>\n",
       "      <th>sample_7__is_correct</th>\n",
       "      <th>sample_8</th>\n",
       "      <th>sample_8__all_min_lm_16</th>\n",
       "      <th>sample_8__is_correct</th>\n",
       "      <th>sample_9</th>\n",
       "      <th>sample_9__all_min_lm_16</th>\n",
       "      <th>sample_9__is_correct</th>\n",
       "      <th>usage</th>\n",
       "    </tr>\n",
       "  </thead>\n",
       "  <tbody>\n",
       "    <tr>\n",
       "      <th>0</th>\n",
       "      <td>True</td>\n",
       "      <td>[{'message': {'role': 'assistant', 'content': ...</td>\n",
       "      <td>c69397b4341b65ed080f</td>\n",
       "      <td>The answer is Yes.</td>\n",
       "      <td>[-0.0203115288, 0.127964139, 0.0320141464, 0.0...</td>\n",
       "      <td>1</td>\n",
       "      <td>The answer is Yes.</td>\n",
       "      <td>The answer is Yes.</td>\n",
       "      <td>[-0.0203115288, 0.127964139, 0.0320141464, 0.0...</td>\n",
       "      <td>1</td>\n",
       "      <td>...</td>\n",
       "      <td>The answer is yes.</td>\n",
       "      <td>[-0.0203115288, 0.127964139, 0.0320141464, 0.0...</td>\n",
       "      <td>1</td>\n",
       "      <td>The answer is Yes.</td>\n",
       "      <td>[-0.0203115288, 0.127964139, 0.0320141464, 0.0...</td>\n",
       "      <td>1</td>\n",
       "      <td>Yes, the language used in Saint Vincent and th...</td>\n",
       "      <td>[0.0567784943, -0.011504123000000002, -0.07668...</td>\n",
       "      <td>1</td>\n",
       "      <td>{'prompt_tokens': 111, 'completion_tokens': 35...</td>\n",
       "    </tr>\n",
       "  </tbody>\n",
       "</table>\n",
       "<p>1 rows × 154 columns</p>\n",
       "</div>"
      ],
      "text/plain": [
       "   answer                                            choices   \n",
       "0    True  [{'message': {'role': 'assistant', 'content': ...  \\\n",
       "\n",
       "            question_id            sample_0   \n",
       "0  c69397b4341b65ed080f  The answer is Yes.  \\\n",
       "\n",
       "                             sample_0__all_min_lm_16  sample_0__is_correct   \n",
       "0  [-0.0203115288, 0.127964139, 0.0320141464, 0.0...                     1  \\\n",
       "\n",
       "             sample_1           sample_10   \n",
       "0  The answer is Yes.  The answer is Yes.  \\\n",
       "\n",
       "                            sample_10__all_min_lm_16  sample_10__is_correct   \n",
       "0  [-0.0203115288, 0.127964139, 0.0320141464, 0.0...                      1  \\\n",
       "\n",
       "   ...            sample_7                            sample_7__all_min_lm_16   \n",
       "0  ...  The answer is yes.  [-0.0203115288, 0.127964139, 0.0320141464, 0.0...  \\\n",
       "\n",
       "   sample_7__is_correct            sample_8   \n",
       "0                     1  The answer is Yes.  \\\n",
       "\n",
       "                             sample_8__all_min_lm_16  sample_8__is_correct   \n",
       "0  [-0.0203115288, 0.127964139, 0.0320141464, 0.0...                     1  \\\n",
       "\n",
       "                                            sample_9   \n",
       "0  Yes, the language used in Saint Vincent and th...  \\\n",
       "\n",
       "                             sample_9__all_min_lm_16  sample_9__is_correct   \n",
       "0  [0.0567784943, -0.011504123000000002, -0.07668...                     1  \\\n",
       "\n",
       "                                               usage  \n",
       "0  {'prompt_tokens': 111, 'completion_tokens': 35...  \n",
       "\n",
       "[1 rows x 154 columns]"
      ]
     },
     "execution_count": 38,
     "metadata": {},
     "output_type": "execute_result"
    }
   ],
   "source": [
    "def sentence_transformer_encode_choices(row : pandas.Series, transformer : SentenceTransformer, transformer_name):\n",
    "    choices = row[CHOICE_COLUMN]\n",
    "    for index in range(len(choices)): \n",
    "        if embedding_column(index, transformer_name) in set(row.keys()): continue\n",
    "        row[embedding_column(index, transformer_name)] = transformer.encode(row[sample_column(index)])\n",
    "    return row\n",
    "\n",
    "embedding = pandas.read_json(EMBEDDING_FILE_PATH, lines=True)\n",
    "embedding = embedding.combine_first(graded)\n",
    "\n",
    "embedding = embedding.apply(lambda row : sentence_transformer_encode_choices(row, all_mini_lm_l6_v2, ALL_MIN_LM_16), axis=1)\n",
    "embedding.head(1)"
   ]
  },
  {
   "attachments": {},
   "cell_type": "markdown",
   "metadata": {},
   "source": [
    "### **4.3 Cache embeddings**"
   ]
  },
  {
   "cell_type": "code",
   "execution_count": 39,
   "metadata": {},
   "outputs": [],
   "source": [
    "embedding.to_json(EMBEDDING_FILE_PATH, orient='records', lines=True)"
   ]
  },
  {
   "attachments": {},
   "cell_type": "markdown",
   "metadata": {},
   "source": [
    "## **5. Sample selection**\n",
    "### **5.1 Clustering**"
   ]
  },
  {
   "cell_type": "code",
   "execution_count": 40,
   "metadata": {},
   "outputs": [],
   "source": [
    "all_mini_lm_16_scores = []\n",
    "average_scores = []\n",
    "temp_0_scores = []\n",
    "top_p_scores = []\n",
    "\n",
    "# SCORES OF BASELINE AVERAGED OVER 5 SAMPLES\n",
    "TEMP_0 = 304.8\n",
    "TOP_P = 381.2\n",
    "\n",
    "for n_jobs in range(1, N_JOBS + 1):\n",
    "    def select_by_clustering(row, transformer_name):\n",
    "        embeddings = []\n",
    "        for index in range(n_jobs): embeddings.append(row[embedding_column(index, transformer_name)])\n",
    "\n",
    "        kmeans = KMeans(n_clusters=1, n_init=2)\n",
    "        kmeans.fit_predict(embeddings)\n",
    "\n",
    "        centroid = kmeans.cluster_centers_[0]\n",
    "\n",
    "        min_distance = float('inf')\n",
    "        min_sample = correct_column(0)\n",
    "\n",
    "        for index, el in enumerate(embeddings):\n",
    "            distance = np.linalg.norm(centroid - el)\n",
    "            if distance < min_distance: \n",
    "                min_distance = distance\n",
    "                min_sample = correct_column(index)\n",
    "        return row[min_sample]\n",
    "    \n",
    "    def get_choice_correct_count(row):\n",
    "        total = 0\n",
    "        for index in range(n_jobs): total += row[correct_column(index)]\n",
    "        return total\n",
    "     \n",
    "    clustering = embedding.apply(lambda row : select_by_clustering(row, ALL_MIN_LM_16), axis=1)\n",
    "    all_mini_lm_16_scores.append(clustering.sum())\n",
    "\n",
    "    temp_0_scores.append(TEMP_0)\n",
    "    top_p_scores.append(TOP_P)\n",
    "    \n",
    "    average_performance = embedding.apply(lambda row : get_choice_correct_count(row), axis=1).sum() / n_jobs\n",
    "    average_scores.append(average_performance)"
   ]
  },
  {
   "cell_type": "code",
   "execution_count": 41,
   "metadata": {},
   "outputs": [
    {
     "data": {
      "image/png": "[encoded data removed]",
      "text/plain": [
       "<Figure size 640x480 with 1 Axes>"
      ]
     },
     "metadata": {},
     "output_type": "display_data"
    }
   ],
   "source": [
    "disp = pandas.DataFrame()\n",
    "disp['number of samples'] = pandas.Series(range(1, N_JOBS + 1))\n",
    "disp['average'] = pandas.Series(average_scores)\n",
    "# disp['top p = 0.1'] = pandas.Series(top_p_scores)\n",
    "# disp['temp = 0'] = pandas.Series(temp_0_scores)\n",
    "disp[ALL_MIN_LM_16] = pandas.Series(all_mini_lm_16_scores)\n",
    "\n",
    "seaborn.lineplot(data=disp, x='number of samples', y=ALL_MIN_LM_16, label=f'{ALL_MIN_LM_16}_clustering')\n",
    "seaborn.lineplot(data=disp, x='number of samples', y='average', label='average')\n",
    "# seaborn.lineplot(data=disp, x='number of samples', y='top p = 0.1', label='top p = 0.1')\n",
    "# seaborn.lineplot(data=disp, x='number of samples', y='temp = 0', label='temp = 0')\n",
    "pyplot.show()"
   ]
  }
 ],
 "metadata": {
  "kernelspec": {
   "display_name": "Python 3",
   "language": "python",
   "name": "python3"
  },
  "language_info": {
   "codemirror_mode": {
    "name": "ipython",
    "version": 3
   },
   "file_extension": ".py",
   "mimetype": "text/x-python",
   "name": "python",
   "nbconvert_exporter": "python",
   "pygments_lexer": "ipython3",
   "version": "3.11.3"
  },
  "orig_nbformat": 4
 },
 "nbformat": 4,
 "nbformat_minor": 2
}
