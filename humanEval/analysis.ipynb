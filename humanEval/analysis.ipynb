{
 "cells": [
  {
   "attachments": {},
   "cell_type": "markdown",
   "metadata": {},
   "source": [
    "# **Analysis**"
   ]
  },
  {
   "attachments": {},
   "cell_type": "markdown",
   "metadata": {},
   "source": [
    "## **0. Configure environment**\n",
    "### **0.1 Install all dependencies**"
   ]
  },
  {
   "cell_type": "code",
   "execution_count": 14,
   "metadata": {},
   "outputs": [],
   "source": [
    "# %%capture\n",
    "# %pip install pandas==2.0.1\n",
    "# %pip install seaborn==0.12.2\n",
    "# %pip install sentence-transformers==2.2.2"
   ]
  },
  {
   "attachments": {},
   "cell_type": "markdown",
   "metadata": {},
   "source": [
    "### **0.2 Import all the libraries needed for this notebook**"
   ]
  },
  {
   "cell_type": "code",
   "execution_count": 15,
   "metadata": {},
   "outputs": [],
   "source": [
    "# TO AID WITH REPRODUCIBILITY...\n",
    "# ENVIRONMENT ============================= #\n",
    "# Python                             3.11.3 #\n",
    "#                                           #\n",
    "# LIBRARIES ------------------------------- #\n",
    "# pandas                              2.0.1 #\n",
    "# seaborn                            0.12.2 #\n",
    "# sentence-transformers               2.2.2 #\n",
    "# ========================================= #\n",
    "\n",
    "# python libraries ------------------------ #\n",
    "import re\n",
    "import os\n",
    "import random\n",
    "\n",
    "import sys\n",
    "from io import StringIO\n",
    "\n",
    "import threading\n",
    "\n",
    "try:\n",
    "    import thread\n",
    "except ImportError:\n",
    "    import _thread as thread\n",
    "\n",
    "# pandas ---------------------------------- #\n",
    "import pandas\n",
    "\n",
    "# seaborn --------------------------------- #\n",
    "import seaborn\n",
    "\n",
    "# sentence_transformers ------------------- #\n",
    "from sentence_transformers import SentenceTransformer, util\n",
    "\n",
    "import numpy as np\n",
    "from sklearn.cluster import KMeans\n",
    "from matplotlib import pyplot"
   ]
  },
  {
   "attachments": {},
   "cell_type": "markdown",
   "metadata": {},
   "source": [
    "### **0.3 Specify all needed constants**\n",
    "This allows the notebook to be configured in a single spot rather than having to jump around the code base."
   ]
  },
  {
   "cell_type": "code",
   "execution_count": 16,
   "metadata": {},
   "outputs": [],
   "source": [
    "# file paths ------------------------------ #\n",
    "GROUND_TRUTH_FILE_PATH = 'in/ground.jsonl'\n",
    "\n",
    "RESPONSES_FILE_PATH = f'out/1-base.jsonl'\n",
    "# RESPONSES_FILE_PATH = f'out/1-baseline-temp-0.jsonl'\n",
    "# RESPONSES_FILE_PATH = f'out/1-baseline-top-p-0.1.jsonl'\n",
    "\n",
    "GRADED_FILE_PATH = f'out/2-graded.jsonl'\n",
    "EMBEDDING_FILE_PATH = f'out/3-embeddings.jsonl'\n",
    "\n",
    "GROUND_INDEX = 'task_id'\n",
    "RESPONSES_INDEX = 'question_id'\n",
    "\n",
    "CHOICE_COLUMN = 'choices'\n",
    "ANSWER_COLUMN = 'answer'\n",
    "\n",
    "RESPONSES_COLUMNS_TO_KEEP = ['question_id', 'choices', 'usage']\n",
    "GROUND_COLUMNS_TO_KEEP = ['task_id', 'entry_point', 'test']\n",
    "\n",
    "SAMPLE_COLUMN = 'sample_[index]'\n",
    "\n",
    "N_JOBS = 10\n",
    "\n",
    "ALL_MIN_LM_16 = \"all_min_lm_16\"\n",
    "ALL_MPNET_BASE_V2 = \"all-mpnet-base-v2\""
   ]
  },
  {
   "cell_type": "code",
   "execution_count": 17,
   "metadata": {},
   "outputs": [],
   "source": [
    "def sample_column(index):\n",
    "    return f'sample_{index}'\n",
    "\n",
    "def correct_column(index):\n",
    "    return f'{sample_column(index)}__is_correct'\n",
    "\n",
    "def embedding_column(index, transformer_name):\n",
    "    return f'{sample_column(index)}__{transformer_name}'"
   ]
  },
  {
   "attachments": {},
   "cell_type": "markdown",
   "metadata": {},
   "source": [
    "## **1. Load data**\n",
    "### **1.1 Load data from files**"
   ]
  },
  {
   "cell_type": "code",
   "execution_count": 18,
   "metadata": {},
   "outputs": [
    {
     "data": {
      "text/html": [
       "<div>\n",
       "<style scoped>\n",
       "    .dataframe tbody tr th:only-of-type {\n",
       "        vertical-align: middle;\n",
       "    }\n",
       "\n",
       "    .dataframe tbody tr th {\n",
       "        vertical-align: top;\n",
       "    }\n",
       "\n",
       "    .dataframe thead th {\n",
       "        text-align: right;\n",
       "    }\n",
       "</style>\n",
       "<table border=\"1\" class=\"dataframe\">\n",
       "  <thead>\n",
       "    <tr style=\"text-align: right;\">\n",
       "      <th></th>\n",
       "      <th>task_id</th>\n",
       "      <th>entry_point</th>\n",
       "      <th>test</th>\n",
       "    </tr>\n",
       "  </thead>\n",
       "  <tbody>\n",
       "    <tr>\n",
       "      <th>0</th>\n",
       "      <td>HumanEval/0</td>\n",
       "      <td>has_close_elements</td>\n",
       "      <td>\\n\\nMETADATA = {\\n    'author': 'jt',\\n    'da...</td>\n",
       "    </tr>\n",
       "  </tbody>\n",
       "</table>\n",
       "</div>"
      ],
      "text/plain": [
       "       task_id         entry_point   \n",
       "0  HumanEval/0  has_close_elements  \\\n",
       "\n",
       "                                                test  \n",
       "0  \\n\\nMETADATA = {\\n    'author': 'jt',\\n    'da...  "
      ]
     },
     "execution_count": 18,
     "metadata": {},
     "output_type": "execute_result"
    }
   ],
   "source": [
    "ground = pandas.read_json(GROUND_TRUTH_FILE_PATH, lines=True)\n",
    "ground = ground[GROUND_COLUMNS_TO_KEEP]\n",
    "ground.head(1)"
   ]
  },
  {
   "cell_type": "code",
   "execution_count": 19,
   "metadata": {},
   "outputs": [
    {
     "data": {
      "text/html": [
       "<div>\n",
       "<style scoped>\n",
       "    .dataframe tbody tr th:only-of-type {\n",
       "        vertical-align: middle;\n",
       "    }\n",
       "\n",
       "    .dataframe tbody tr th {\n",
       "        vertical-align: top;\n",
       "    }\n",
       "\n",
       "    .dataframe thead th {\n",
       "        text-align: right;\n",
       "    }\n",
       "</style>\n",
       "<table border=\"1\" class=\"dataframe\">\n",
       "  <thead>\n",
       "    <tr style=\"text-align: right;\">\n",
       "      <th></th>\n",
       "      <th>question_id</th>\n",
       "      <th>choices</th>\n",
       "      <th>usage</th>\n",
       "      <th>entry_point</th>\n",
       "      <th>test</th>\n",
       "    </tr>\n",
       "  </thead>\n",
       "  <tbody>\n",
       "    <tr>\n",
       "      <th>0</th>\n",
       "      <td>HumanEval/3</td>\n",
       "      <td>[{'message': {'role': 'assistant', 'content': ...</td>\n",
       "      <td>{'prompt_tokens': 155, 'completion_tokens': 25...</td>\n",
       "      <td>below_zero</td>\n",
       "      <td>\\n\\nMETADATA = {\\n    'author': 'jt',\\n    'da...</td>\n",
       "    </tr>\n",
       "  </tbody>\n",
       "</table>\n",
       "</div>"
      ],
      "text/plain": [
       "   question_id                                            choices   \n",
       "0  HumanEval/3  [{'message': {'role': 'assistant', 'content': ...  \\\n",
       "\n",
       "                                               usage entry_point   \n",
       "0  {'prompt_tokens': 155, 'completion_tokens': 25...  below_zero  \\\n",
       "\n",
       "                                                test  \n",
       "0  \\n\\nMETADATA = {\\n    'author': 'jt',\\n    'da...  "
      ]
     },
     "execution_count": 19,
     "metadata": {},
     "output_type": "execute_result"
    }
   ],
   "source": [
    "responses = pandas.read_json(RESPONSES_FILE_PATH, lines=True)\n",
    "responses = responses[RESPONSES_COLUMNS_TO_KEEP]\n",
    "responses = responses.join(other=ground.set_index(GROUND_INDEX), on=RESPONSES_INDEX)\n",
    "responses.head(1)"
   ]
  },
  {
   "attachments": {},
   "cell_type": "markdown",
   "metadata": {},
   "source": [
    "### **1.2 Extract choices into individual columns**"
   ]
  },
  {
   "cell_type": "code",
   "execution_count": 20,
   "metadata": {},
   "outputs": [
    {
     "data": {
      "text/html": [
       "<div>\n",
       "<style scoped>\n",
       "    .dataframe tbody tr th:only-of-type {\n",
       "        vertical-align: middle;\n",
       "    }\n",
       "\n",
       "    .dataframe tbody tr th {\n",
       "        vertical-align: top;\n",
       "    }\n",
       "\n",
       "    .dataframe thead th {\n",
       "        text-align: right;\n",
       "    }\n",
       "</style>\n",
       "<table border=\"1\" class=\"dataframe\">\n",
       "  <thead>\n",
       "    <tr style=\"text-align: right;\">\n",
       "      <th></th>\n",
       "      <th>question_id</th>\n",
       "      <th>choices</th>\n",
       "      <th>usage</th>\n",
       "      <th>entry_point</th>\n",
       "      <th>test</th>\n",
       "      <th>sample_0</th>\n",
       "      <th>sample_1</th>\n",
       "      <th>sample_2</th>\n",
       "      <th>sample_3</th>\n",
       "      <th>sample_4</th>\n",
       "      <th>...</th>\n",
       "      <th>sample_40</th>\n",
       "      <th>sample_41</th>\n",
       "      <th>sample_42</th>\n",
       "      <th>sample_43</th>\n",
       "      <th>sample_44</th>\n",
       "      <th>sample_45</th>\n",
       "      <th>sample_46</th>\n",
       "      <th>sample_47</th>\n",
       "      <th>sample_48</th>\n",
       "      <th>sample_49</th>\n",
       "    </tr>\n",
       "  </thead>\n",
       "  <tbody>\n",
       "    <tr>\n",
       "      <th>0</th>\n",
       "      <td>HumanEval/3</td>\n",
       "      <td>[{'message': {'role': 'assistant', 'content': ...</td>\n",
       "      <td>{'prompt_tokens': 155, 'completion_tokens': 25...</td>\n",
       "      <td>below_zero</td>\n",
       "      <td>\\n\\nMETADATA = {\\n    'author': 'jt',\\n    'da...</td>\n",
       "      <td>'''python\\ndef below_zero(operations: List[int...</td>\n",
       "      <td>'''python\\nfrom typing import List\\n\\ndef belo...</td>\n",
       "      <td>'''python\\nfrom typing import List\\n\\ndef belo...</td>\n",
       "      <td>'''python\\ndef below_zero(operations: List[int...</td>\n",
       "      <td>'''python\\ndef below_zero(operations):\\n    ba...</td>\n",
       "      <td>...</td>\n",
       "      <td>'''python\\ndef below_zero(operations: List[int...</td>\n",
       "      <td>'''python\\nfrom typing import List\\n\\n\\ndef be...</td>\n",
       "      <td>'''python\\ndef below_zero(operations: List[int...</td>\n",
       "      <td>'''python\\nfrom typing import List\\n\\n\\ndef be...</td>\n",
       "      <td>'''python\\nfrom typing import List\\n\\ndef belo...</td>\n",
       "      <td>'''python\\nfrom typing import List\\n\\ndef belo...</td>\n",
       "      <td>'''python\\ndef below_zero(operations: List[int...</td>\n",
       "      <td>'''python\\nfrom typing import List\\n\\ndef belo...</td>\n",
       "      <td>'''python\\ndef below_zero(operations: List[int...</td>\n",
       "      <td>'''python\\ndef below_zero(operations: List[int...</td>\n",
       "    </tr>\n",
       "  </tbody>\n",
       "</table>\n",
       "<p>1 rows × 55 columns</p>\n",
       "</div>"
      ],
      "text/plain": [
       "   question_id                                            choices   \n",
       "0  HumanEval/3  [{'message': {'role': 'assistant', 'content': ...  \\\n",
       "\n",
       "                                               usage entry_point   \n",
       "0  {'prompt_tokens': 155, 'completion_tokens': 25...  below_zero  \\\n",
       "\n",
       "                                                test   \n",
       "0  \\n\\nMETADATA = {\\n    'author': 'jt',\\n    'da...  \\\n",
       "\n",
       "                                            sample_0   \n",
       "0  '''python\\ndef below_zero(operations: List[int...  \\\n",
       "\n",
       "                                            sample_1   \n",
       "0  '''python\\nfrom typing import List\\n\\ndef belo...  \\\n",
       "\n",
       "                                            sample_2   \n",
       "0  '''python\\nfrom typing import List\\n\\ndef belo...  \\\n",
       "\n",
       "                                            sample_3   \n",
       "0  '''python\\ndef below_zero(operations: List[int...  \\\n",
       "\n",
       "                                            sample_4  ...   \n",
       "0  '''python\\ndef below_zero(operations):\\n    ba...  ...  \\\n",
       "\n",
       "                                           sample_40   \n",
       "0  '''python\\ndef below_zero(operations: List[int...  \\\n",
       "\n",
       "                                           sample_41   \n",
       "0  '''python\\nfrom typing import List\\n\\n\\ndef be...  \\\n",
       "\n",
       "                                           sample_42   \n",
       "0  '''python\\ndef below_zero(operations: List[int...  \\\n",
       "\n",
       "                                           sample_43   \n",
       "0  '''python\\nfrom typing import List\\n\\n\\ndef be...  \\\n",
       "\n",
       "                                           sample_44   \n",
       "0  '''python\\nfrom typing import List\\n\\ndef belo...  \\\n",
       "\n",
       "                                           sample_45   \n",
       "0  '''python\\nfrom typing import List\\n\\ndef belo...  \\\n",
       "\n",
       "                                           sample_46   \n",
       "0  '''python\\ndef below_zero(operations: List[int...  \\\n",
       "\n",
       "                                           sample_47   \n",
       "0  '''python\\nfrom typing import List\\n\\ndef belo...  \\\n",
       "\n",
       "                                           sample_48   \n",
       "0  '''python\\ndef below_zero(operations: List[int...  \\\n",
       "\n",
       "                                           sample_49  \n",
       "0  '''python\\ndef below_zero(operations: List[int...  \n",
       "\n",
       "[1 rows x 55 columns]"
      ]
     },
     "execution_count": 20,
     "metadata": {},
     "output_type": "execute_result"
    }
   ],
   "source": [
    "def extract_choices(row):\n",
    "    choices = row[CHOICE_COLUMN]\n",
    "    for index in range(len(choices)): \n",
    "        row[sample_column(index)] = choices[index]['message']['content']\n",
    "    return row\n",
    "\n",
    "responses = responses.apply(lambda row : extract_choices(row), axis=1)\n",
    "responses.head(1)"
   ]
  },
  {
   "attachments": {},
   "cell_type": "markdown",
   "metadata": {},
   "source": [
    "### **1.3 Compute API costs**"
   ]
  },
  {
   "cell_type": "code",
   "execution_count": 21,
   "metadata": {},
   "outputs": [],
   "source": [
    "total_tokens = responses['usage'].apply(lambda row : row['total_tokens']).sum()\n",
    "total_cost = total_tokens / 1000 * 0.002\n",
    "print(\"TOTAL TOKENS:\", total_tokens)\n",
    "print(\"TOTAL COST  :\", total_cost)"
   ]
  },
  {
   "attachments": {},
   "cell_type": "markdown",
   "metadata": {},
   "source": [
    "## **2. Grading**\n",
    "### **2.1 Retrieve cached results (if they exist)**"
   ]
  },
  {
   "cell_type": "code",
   "execution_count": 22,
   "metadata": {},
   "outputs": [],
   "source": [
    "if not os.path.isfile(GRADED_FILE_PATH): responses.to_json(GRADED_FILE_PATH, orient='records', lines=True)"
   ]
  },
  {
   "attachments": {},
   "cell_type": "markdown",
   "metadata": {},
   "source": [
    "### **2.2 Evaluate ChatGPT's response**\n",
    "In our prompts to ChatGPT, we specified for ChatGPT to end its response with the phrase:  \n",
    "'The answer is...', we look for this string in the final answer and check for the words yes or no after the sentence."
   ]
  },
  {
   "cell_type": "code",
   "execution_count": 23,
   "metadata": {},
   "outputs": [
    {
     "data": {
      "text/html": [
       "<div>\n",
       "<style scoped>\n",
       "    .dataframe tbody tr th:only-of-type {\n",
       "        vertical-align: middle;\n",
       "    }\n",
       "\n",
       "    .dataframe tbody tr th {\n",
       "        vertical-align: top;\n",
       "    }\n",
       "\n",
       "    .dataframe thead th {\n",
       "        text-align: right;\n",
       "    }\n",
       "</style>\n",
       "<table border=\"1\" class=\"dataframe\">\n",
       "  <thead>\n",
       "    <tr style=\"text-align: right;\">\n",
       "      <th></th>\n",
       "      <th>choices</th>\n",
       "      <th>entry_point</th>\n",
       "      <th>question_id</th>\n",
       "      <th>sample_0</th>\n",
       "      <th>sample_0__is_correct</th>\n",
       "      <th>sample_1</th>\n",
       "      <th>sample_10</th>\n",
       "      <th>sample_10__is_correct</th>\n",
       "      <th>sample_11</th>\n",
       "      <th>sample_11__is_correct</th>\n",
       "      <th>...</th>\n",
       "      <th>sample_6</th>\n",
       "      <th>sample_6__is_correct</th>\n",
       "      <th>sample_7</th>\n",
       "      <th>sample_7__is_correct</th>\n",
       "      <th>sample_8</th>\n",
       "      <th>sample_8__is_correct</th>\n",
       "      <th>sample_9</th>\n",
       "      <th>sample_9__is_correct</th>\n",
       "      <th>test</th>\n",
       "      <th>usage</th>\n",
       "    </tr>\n",
       "  </thead>\n",
       "  <tbody>\n",
       "    <tr>\n",
       "      <th>0</th>\n",
       "      <td>[{'message': {'role': 'assistant', 'content': ...</td>\n",
       "      <td>below_zero</td>\n",
       "      <td>HumanEval/3</td>\n",
       "      <td>'''python\\ndef below_zero(operations: List[int...</td>\n",
       "      <td>name 'List' is not defined</td>\n",
       "      <td>'''python\\nfrom typing import List\\n\\ndef belo...</td>\n",
       "      <td>'''python\\nfrom typing import List\\n\\n\\ndef be...</td>\n",
       "      <td></td>\n",
       "      <td>'''python\\ndef below_zero(operations: List[int...</td>\n",
       "      <td>name 'List' is not defined</td>\n",
       "      <td>...</td>\n",
       "      <td>'''python\\nfrom typing import List\\n\\ndef belo...</td>\n",
       "      <td></td>\n",
       "      <td>'''python\\ndef below_zero(operations: List[int...</td>\n",
       "      <td>name 'List' is not defined</td>\n",
       "      <td>'''python\\nfrom typing import List\\n\\ndef belo...</td>\n",
       "      <td></td>\n",
       "      <td>'''python\\nfrom typing import List\\n\\ndef belo...</td>\n",
       "      <td></td>\n",
       "      <td>\\n\\nMETADATA = {\\n    'author': 'jt',\\n    'da...</td>\n",
       "      <td>{'prompt_tokens': 155, 'completion_tokens': 25...</td>\n",
       "    </tr>\n",
       "  </tbody>\n",
       "</table>\n",
       "<p>1 rows × 105 columns</p>\n",
       "</div>"
      ],
      "text/plain": [
       "                                             choices entry_point  question_id   \n",
       "0  [{'message': {'role': 'assistant', 'content': ...  below_zero  HumanEval/3  \\\n",
       "\n",
       "                                            sample_0   \n",
       "0  '''python\\ndef below_zero(operations: List[int...  \\\n",
       "\n",
       "         sample_0__is_correct   \n",
       "0  name 'List' is not defined  \\\n",
       "\n",
       "                                            sample_1   \n",
       "0  '''python\\nfrom typing import List\\n\\ndef belo...  \\\n",
       "\n",
       "                                           sample_10 sample_10__is_correct   \n",
       "0  '''python\\nfrom typing import List\\n\\n\\ndef be...                        \\\n",
       "\n",
       "                                           sample_11   \n",
       "0  '''python\\ndef below_zero(operations: List[int...  \\\n",
       "\n",
       "        sample_11__is_correct  ...   \n",
       "0  name 'List' is not defined  ...  \\\n",
       "\n",
       "                                            sample_6 sample_6__is_correct   \n",
       "0  '''python\\nfrom typing import List\\n\\ndef belo...                       \\\n",
       "\n",
       "                                            sample_7   \n",
       "0  '''python\\ndef below_zero(operations: List[int...  \\\n",
       "\n",
       "         sample_7__is_correct   \n",
       "0  name 'List' is not defined  \\\n",
       "\n",
       "                                            sample_8 sample_8__is_correct   \n",
       "0  '''python\\nfrom typing import List\\n\\ndef belo...                       \\\n",
       "\n",
       "                                            sample_9 sample_9__is_correct   \n",
       "0  '''python\\nfrom typing import List\\n\\ndef belo...                       \\\n",
       "\n",
       "                                                test   \n",
       "0  \\n\\nMETADATA = {\\n    'author': 'jt',\\n    'da...  \\\n",
       "\n",
       "                                               usage  \n",
       "0  {'prompt_tokens': 155, 'completion_tokens': 25...  \n",
       "\n",
       "[1 rows x 105 columns]"
      ]
     },
     "execution_count": 23,
     "metadata": {},
     "output_type": "execute_result"
    }
   ],
   "source": [
    "def quit_function(fn_name):\n",
    "    # print to stderr, unbuffered in Python 2.\n",
    "    sys.stderr.flush() # Python 3 stderr is likely buffered.\n",
    "    thread.interrupt_main() # raises KeyboardInterrupt\n",
    "\n",
    "def remove_tag(text : str):\n",
    "    return text[9:-3]\n",
    "# ------------------------------------------- #\n",
    "#   A function that times out functions \n",
    "#   after a certain period of time\n",
    "# ------------------------------------------- #\n",
    "def exit_after(s):\n",
    "    '''\n",
    "    use as decorator to exit process if \n",
    "    function takes longer than s seconds\n",
    "    '''\n",
    "    def outer(fn):\n",
    "        def inner(*args, **kwargs):\n",
    "            timer = threading.Timer(s, quit_function, args=[fn.__name__])\n",
    "            timer.start()\n",
    "            try:\n",
    "                result = fn(*args, **kwargs)\n",
    "            finally:\n",
    "                timer.cancel()\n",
    "            return result\n",
    "        return inner\n",
    "    return outer\n",
    "\n",
    "# ------------------------------------------- #\n",
    "#   Solves a system of equations given in\n",
    "#   a list of str\n",
    "# ------------------------------------------- #\n",
    "@exit_after(5)\n",
    "def evaluate(text : str):\n",
    "    try:\n",
    "        old_stdout = sys.stdout\n",
    "        sys.stdout = mystdout = StringIO()\n",
    "        exec(text)\n",
    "        sys.stdout = old_stdout\n",
    "        message = mystdout.getvalue()\n",
    "        return message\n",
    "    except Exception as e: return str(e)\n",
    "    \n",
    "def eval_wrap(text : str):\n",
    "    try: return evaluate(text)\n",
    "    except KeyboardInterrupt: return \"TIMEOUT\"\n",
    "\n",
    "def is_choice_correct(solution : str): \n",
    "    return 1 if len(eval_wrap(solution)) == 0 else 0\n",
    "\n",
    "def grade_choices(row : pandas.Series):\n",
    "    choices = row[CHOICE_COLUMN]\n",
    "    for index in range(len(choices)): \n",
    "        if correct_column(index) in set(row.keys()): continue\n",
    "\n",
    "        solution = remove_tag(row[sample_column(index)])\n",
    "        solution = f\"{solution}\\n{row['test']}\\ncheck({row['entry_point']})\"\n",
    "\n",
    "        row[correct_column(index)] = is_choice_correct(solution)\n",
    "    return row\n",
    "\n",
    "graded = pandas.read_json(GRADED_FILE_PATH, lines=True)\n",
    "graded = graded.combine_first(responses)\n",
    "graded = graded.apply(lambda row : grade_choices(row), axis=1)\n",
    "graded.head(1)"
   ]
  },
  {
   "attachments": {},
   "cell_type": "markdown",
   "metadata": {},
   "source": [
    "### **2.3 Cache results**"
   ]
  },
  {
   "cell_type": "code",
   "execution_count": 24,
   "metadata": {},
   "outputs": [],
   "source": [
    "graded.to_json(GRADED_FILE_PATH, orient='records', lines=True)"
   ]
  },
  {
   "attachments": {},
   "cell_type": "markdown",
   "metadata": {},
   "source": [
    "## **3. Data exploration**"
   ]
  },
  {
   "cell_type": "code",
   "execution_count": 25,
   "metadata": {},
   "outputs": [
    {
     "ename": "TypeError",
     "evalue": "unsupported operand type(s) for +=: 'int' and 'str'",
     "output_type": "error",
     "traceback": [
      "\u001b[1;31m---------------------------------------------------------------------------\u001b[0m",
      "\u001b[1;31mTypeError\u001b[0m                                 Traceback (most recent call last)",
      "Cell \u001b[1;32mIn[25], line 7\u001b[0m\n\u001b[0;32m      4\u001b[0m         count \u001b[39m+\u001b[39m\u001b[39m=\u001b[39m row[correct_column(index)]\n\u001b[0;32m      5\u001b[0m     \u001b[39mreturn\u001b[39;00m count\n\u001b[1;32m----> 7\u001b[0m counts \u001b[39m=\u001b[39m graded\u001b[39m.\u001b[39;49mapply(\u001b[39mlambda\u001b[39;49;00m row : get_choice_correct_count(row), axis\u001b[39m=\u001b[39;49m\u001b[39m1\u001b[39;49m)\n\u001b[0;32m      8\u001b[0m stats \u001b[39m=\u001b[39m counts\u001b[39m.\u001b[39mvalue_counts()\u001b[39m.\u001b[39msort_index()\n\u001b[0;32m      9\u001b[0m barplot \u001b[39m=\u001b[39m seaborn\u001b[39m.\u001b[39mbarplot(x\u001b[39m=\u001b[39mstats\u001b[39m.\u001b[39mindex, y\u001b[39m=\u001b[39mstats\u001b[39m.\u001b[39mvalues)\n",
      "File \u001b[1;32m~\\AppData\\Local\\Packages\\PythonSoftwareFoundation.Python.3.11_qbz5n2kfra8p0\\LocalCache\\local-packages\\Python311\\site-packages\\pandas\\core\\frame.py:9433\u001b[0m, in \u001b[0;36mDataFrame.apply\u001b[1;34m(self, func, axis, raw, result_type, args, **kwargs)\u001b[0m\n\u001b[0;32m   9422\u001b[0m \u001b[39mfrom\u001b[39;00m \u001b[39mpandas\u001b[39;00m\u001b[39m.\u001b[39;00m\u001b[39mcore\u001b[39;00m\u001b[39m.\u001b[39;00m\u001b[39mapply\u001b[39;00m \u001b[39mimport\u001b[39;00m frame_apply\n\u001b[0;32m   9424\u001b[0m op \u001b[39m=\u001b[39m frame_apply(\n\u001b[0;32m   9425\u001b[0m     \u001b[39mself\u001b[39m,\n\u001b[0;32m   9426\u001b[0m     func\u001b[39m=\u001b[39mfunc,\n\u001b[1;32m   (...)\u001b[0m\n\u001b[0;32m   9431\u001b[0m     kwargs\u001b[39m=\u001b[39mkwargs,\n\u001b[0;32m   9432\u001b[0m )\n\u001b[1;32m-> 9433\u001b[0m \u001b[39mreturn\u001b[39;00m op\u001b[39m.\u001b[39;49mapply()\u001b[39m.\u001b[39m__finalize__(\u001b[39mself\u001b[39m, method\u001b[39m=\u001b[39m\u001b[39m\"\u001b[39m\u001b[39mapply\u001b[39m\u001b[39m\"\u001b[39m)\n",
      "File \u001b[1;32m~\\AppData\\Local\\Packages\\PythonSoftwareFoundation.Python.3.11_qbz5n2kfra8p0\\LocalCache\\local-packages\\Python311\\site-packages\\pandas\\core\\apply.py:678\u001b[0m, in \u001b[0;36mFrameApply.apply\u001b[1;34m(self)\u001b[0m\n\u001b[0;32m    675\u001b[0m \u001b[39melif\u001b[39;00m \u001b[39mself\u001b[39m\u001b[39m.\u001b[39mraw:\n\u001b[0;32m    676\u001b[0m     \u001b[39mreturn\u001b[39;00m \u001b[39mself\u001b[39m\u001b[39m.\u001b[39mapply_raw()\n\u001b[1;32m--> 678\u001b[0m \u001b[39mreturn\u001b[39;00m \u001b[39mself\u001b[39;49m\u001b[39m.\u001b[39;49mapply_standard()\n",
      "File \u001b[1;32m~\\AppData\\Local\\Packages\\PythonSoftwareFoundation.Python.3.11_qbz5n2kfra8p0\\LocalCache\\local-packages\\Python311\\site-packages\\pandas\\core\\apply.py:798\u001b[0m, in \u001b[0;36mFrameApply.apply_standard\u001b[1;34m(self)\u001b[0m\n\u001b[0;32m    797\u001b[0m \u001b[39mdef\u001b[39;00m \u001b[39mapply_standard\u001b[39m(\u001b[39mself\u001b[39m):\n\u001b[1;32m--> 798\u001b[0m     results, res_index \u001b[39m=\u001b[39m \u001b[39mself\u001b[39;49m\u001b[39m.\u001b[39;49mapply_series_generator()\n\u001b[0;32m    800\u001b[0m     \u001b[39m# wrap results\u001b[39;00m\n\u001b[0;32m    801\u001b[0m     \u001b[39mreturn\u001b[39;00m \u001b[39mself\u001b[39m\u001b[39m.\u001b[39mwrap_results(results, res_index)\n",
      "File \u001b[1;32m~\\AppData\\Local\\Packages\\PythonSoftwareFoundation.Python.3.11_qbz5n2kfra8p0\\LocalCache\\local-packages\\Python311\\site-packages\\pandas\\core\\apply.py:814\u001b[0m, in \u001b[0;36mFrameApply.apply_series_generator\u001b[1;34m(self)\u001b[0m\n\u001b[0;32m    811\u001b[0m \u001b[39mwith\u001b[39;00m option_context(\u001b[39m\"\u001b[39m\u001b[39mmode.chained_assignment\u001b[39m\u001b[39m\"\u001b[39m, \u001b[39mNone\u001b[39;00m):\n\u001b[0;32m    812\u001b[0m     \u001b[39mfor\u001b[39;00m i, v \u001b[39min\u001b[39;00m \u001b[39menumerate\u001b[39m(series_gen):\n\u001b[0;32m    813\u001b[0m         \u001b[39m# ignore SettingWithCopy here in case the user mutates\u001b[39;00m\n\u001b[1;32m--> 814\u001b[0m         results[i] \u001b[39m=\u001b[39m \u001b[39mself\u001b[39;49m\u001b[39m.\u001b[39;49mf(v)\n\u001b[0;32m    815\u001b[0m         \u001b[39mif\u001b[39;00m \u001b[39misinstance\u001b[39m(results[i], ABCSeries):\n\u001b[0;32m    816\u001b[0m             \u001b[39m# If we have a view on v, we need to make a copy because\u001b[39;00m\n\u001b[0;32m    817\u001b[0m             \u001b[39m#  series_generator will swap out the underlying data\u001b[39;00m\n\u001b[0;32m    818\u001b[0m             results[i] \u001b[39m=\u001b[39m results[i]\u001b[39m.\u001b[39mcopy(deep\u001b[39m=\u001b[39m\u001b[39mFalse\u001b[39;00m)\n",
      "Cell \u001b[1;32mIn[25], line 7\u001b[0m, in \u001b[0;36m<lambda>\u001b[1;34m(row)\u001b[0m\n\u001b[0;32m      4\u001b[0m         count \u001b[39m+\u001b[39m\u001b[39m=\u001b[39m row[correct_column(index)]\n\u001b[0;32m      5\u001b[0m     \u001b[39mreturn\u001b[39;00m count\n\u001b[1;32m----> 7\u001b[0m counts \u001b[39m=\u001b[39m graded\u001b[39m.\u001b[39mapply(\u001b[39mlambda\u001b[39;00m row : get_choice_correct_count(row), axis\u001b[39m=\u001b[39m\u001b[39m1\u001b[39m)\n\u001b[0;32m      8\u001b[0m stats \u001b[39m=\u001b[39m counts\u001b[39m.\u001b[39mvalue_counts()\u001b[39m.\u001b[39msort_index()\n\u001b[0;32m      9\u001b[0m barplot \u001b[39m=\u001b[39m seaborn\u001b[39m.\u001b[39mbarplot(x\u001b[39m=\u001b[39mstats\u001b[39m.\u001b[39mindex, y\u001b[39m=\u001b[39mstats\u001b[39m.\u001b[39mvalues)\n",
      "Cell \u001b[1;32mIn[25], line 4\u001b[0m, in \u001b[0;36mget_choice_correct_count\u001b[1;34m(row)\u001b[0m\n\u001b[0;32m      2\u001b[0m count \u001b[39m=\u001b[39m \u001b[39m0\u001b[39m\n\u001b[0;32m      3\u001b[0m \u001b[39mfor\u001b[39;00m index \u001b[39min\u001b[39;00m \u001b[39mrange\u001b[39m(N_JOBS): \n\u001b[1;32m----> 4\u001b[0m     count \u001b[39m+\u001b[39;49m\u001b[39m=\u001b[39;49m row[correct_column(index)]\n\u001b[0;32m      5\u001b[0m \u001b[39mreturn\u001b[39;00m count\n",
      "\u001b[1;31mTypeError\u001b[0m: unsupported operand type(s) for +=: 'int' and 'str'"
     ]
    }
   ],
   "source": [
    "def get_choice_correct_count(row):\n",
    "    count = 0\n",
    "    for index in range(N_JOBS): \n",
    "        count += row[correct_column(index)]\n",
    "    return count\n",
    "\n",
    "counts = graded.apply(lambda row : get_choice_correct_count(row), axis=1)\n",
    "stats = counts.value_counts().sort_index()\n",
    "barplot = seaborn.barplot(x=stats.index, y=stats.values)\n",
    "barplot.set(title=\"Number of correct samples distribution\")\n",
    "barplot.set(xlabel=\"Number of correct samples\")\n",
    "barplot.set(ylabel=\"Number of correct samples\")\n",
    "# for i in barplot.containers:\n",
    "#     barplot.bar_label(i,)"
   ]
  },
  {
   "cell_type": "code",
   "execution_count": null,
   "metadata": {},
   "outputs": [],
   "source": [
    "# graded['counts'] = counts\n",
    "# graded.to_json('a.jsonl', lines=True, orient='records')"
   ]
  },
  {
   "cell_type": "code",
   "execution_count": null,
   "metadata": {},
   "outputs": [
    {
     "data": {
      "text/plain": [
       "91.0"
      ]
     },
     "execution_count": 140,
     "metadata": {},
     "output_type": "execute_result"
    }
   ],
   "source": [
    "(pandas.Series(stats.index) * stats.values).sum() / N_JOBS"
   ]
  },
  {
   "attachments": {},
   "cell_type": "markdown",
   "metadata": {},
   "source": [
    "## **4. Embedding**\n",
    "### **4.1 Retrieve cache results (if they exist)**"
   ]
  },
  {
   "cell_type": "code",
   "execution_count": null,
   "metadata": {},
   "outputs": [],
   "source": [
    "if not os.path.isfile(EMBEDDING_FILE_PATH): graded.to_json(EMBEDDING_FILE_PATH, orient='records', lines=True)"
   ]
  },
  {
   "attachments": {},
   "cell_type": "markdown",
   "metadata": {},
   "source": [
    "### **4.2 Initialize all the transformers that will be used**"
   ]
  },
  {
   "cell_type": "code",
   "execution_count": null,
   "metadata": {},
   "outputs": [],
   "source": [
    "all_mini_lm_l6_v2 = SentenceTransformer('sentence-transformers/all-MiniLM-L6-v2')"
   ]
  },
  {
   "cell_type": "code",
   "execution_count": null,
   "metadata": {},
   "outputs": [
    {
     "data": {
      "text/html": [
       "<div>\n",
       "<style scoped>\n",
       "    .dataframe tbody tr th:only-of-type {\n",
       "        vertical-align: middle;\n",
       "    }\n",
       "\n",
       "    .dataframe tbody tr th {\n",
       "        vertical-align: top;\n",
       "    }\n",
       "\n",
       "    .dataframe thead th {\n",
       "        text-align: right;\n",
       "    }\n",
       "</style>\n",
       "<table border=\"1\" class=\"dataframe\">\n",
       "  <thead>\n",
       "    <tr style=\"text-align: right;\">\n",
       "      <th></th>\n",
       "      <th>question_id</th>\n",
       "      <th>choices</th>\n",
       "      <th>usage</th>\n",
       "      <th>entry_point</th>\n",
       "      <th>test</th>\n",
       "      <th>sample_0</th>\n",
       "      <th>sample_1</th>\n",
       "      <th>sample_2</th>\n",
       "      <th>sample_3</th>\n",
       "      <th>sample_4</th>\n",
       "      <th>...</th>\n",
       "      <th>sample_40__all_min_lm_16</th>\n",
       "      <th>sample_41__all_min_lm_16</th>\n",
       "      <th>sample_42__all_min_lm_16</th>\n",
       "      <th>sample_43__all_min_lm_16</th>\n",
       "      <th>sample_44__all_min_lm_16</th>\n",
       "      <th>sample_45__all_min_lm_16</th>\n",
       "      <th>sample_46__all_min_lm_16</th>\n",
       "      <th>sample_47__all_min_lm_16</th>\n",
       "      <th>sample_48__all_min_lm_16</th>\n",
       "      <th>sample_49__all_min_lm_16</th>\n",
       "    </tr>\n",
       "  </thead>\n",
       "  <tbody>\n",
       "    <tr>\n",
       "      <th>0</th>\n",
       "      <td>HumanEval/3</td>\n",
       "      <td>[{'message': {'role': 'assistant', 'content': ...</td>\n",
       "      <td>{'prompt_tokens': 155, 'completion_tokens': 25...</td>\n",
       "      <td>below_zero</td>\n",
       "      <td>\\n\\nMETADATA = {\\n    'author': 'jt',\\n    'da...</td>\n",
       "      <td>'''python\\nfrom typing import List\\n\\ndef belo...</td>\n",
       "      <td>'''python\\ndef below_zero(operations: List[int...</td>\n",
       "      <td>'''python\\nfrom typing import List\\n\\ndef belo...</td>\n",
       "      <td>'''python\\nfrom typing import List\\n\\ndef belo...</td>\n",
       "      <td>'''python\\nfrom typing import List\\n\\n\\ndef be...</td>\n",
       "      <td>...</td>\n",
       "      <td>[-0.020492185, 0.105527945, -0.037848745, 0.01...</td>\n",
       "      <td>[-0.017801007, 0.09964598, -0.036717366, 0.003...</td>\n",
       "      <td>[-0.017801007, 0.09964598, -0.036717366, 0.003...</td>\n",
       "      <td>[-0.023401706, 0.085186094, -0.01715884, 0.017...</td>\n",
       "      <td>[-0.027135618, 0.0906136, -0.016690323, 0.0282...</td>\n",
       "      <td>[0.0031148298, 0.08860269, 0.023330076, 0.0116...</td>\n",
       "      <td>[-0.023401706, 0.085186094, -0.01715884, 0.017...</td>\n",
       "      <td>[-0.027135618, 0.0906136, -0.016690323, 0.0282...</td>\n",
       "      <td>[-0.017801007, 0.09964598, -0.036717366, 0.003...</td>\n",
       "      <td>[-0.026205802, 0.08687013, -0.045525987, -0.00...</td>\n",
       "    </tr>\n",
       "  </tbody>\n",
       "</table>\n",
       "<p>1 rows × 155 columns</p>\n",
       "</div>"
      ],
      "text/plain": [
       "   question_id                                            choices   \n",
       "0  HumanEval/3  [{'message': {'role': 'assistant', 'content': ...  \\\n",
       "\n",
       "                                               usage entry_point   \n",
       "0  {'prompt_tokens': 155, 'completion_tokens': 25...  below_zero  \\\n",
       "\n",
       "                                                test   \n",
       "0  \\n\\nMETADATA = {\\n    'author': 'jt',\\n    'da...  \\\n",
       "\n",
       "                                            sample_0   \n",
       "0  '''python\\nfrom typing import List\\n\\ndef belo...  \\\n",
       "\n",
       "                                            sample_1   \n",
       "0  '''python\\ndef below_zero(operations: List[int...  \\\n",
       "\n",
       "                                            sample_2   \n",
       "0  '''python\\nfrom typing import List\\n\\ndef belo...  \\\n",
       "\n",
       "                                            sample_3   \n",
       "0  '''python\\nfrom typing import List\\n\\ndef belo...  \\\n",
       "\n",
       "                                            sample_4  ...   \n",
       "0  '''python\\nfrom typing import List\\n\\n\\ndef be...  ...  \\\n",
       "\n",
       "                            sample_40__all_min_lm_16   \n",
       "0  [-0.020492185, 0.105527945, -0.037848745, 0.01...  \\\n",
       "\n",
       "                            sample_41__all_min_lm_16   \n",
       "0  [-0.017801007, 0.09964598, -0.036717366, 0.003...  \\\n",
       "\n",
       "                            sample_42__all_min_lm_16   \n",
       "0  [-0.017801007, 0.09964598, -0.036717366, 0.003...  \\\n",
       "\n",
       "                            sample_43__all_min_lm_16   \n",
       "0  [-0.023401706, 0.085186094, -0.01715884, 0.017...  \\\n",
       "\n",
       "                            sample_44__all_min_lm_16   \n",
       "0  [-0.027135618, 0.0906136, -0.016690323, 0.0282...  \\\n",
       "\n",
       "                            sample_45__all_min_lm_16   \n",
       "0  [0.0031148298, 0.08860269, 0.023330076, 0.0116...  \\\n",
       "\n",
       "                            sample_46__all_min_lm_16   \n",
       "0  [-0.023401706, 0.085186094, -0.01715884, 0.017...  \\\n",
       "\n",
       "                            sample_47__all_min_lm_16   \n",
       "0  [-0.027135618, 0.0906136, -0.016690323, 0.0282...  \\\n",
       "\n",
       "                            sample_48__all_min_lm_16   \n",
       "0  [-0.017801007, 0.09964598, -0.036717366, 0.003...  \\\n",
       "\n",
       "                            sample_49__all_min_lm_16  \n",
       "0  [-0.026205802, 0.08687013, -0.045525987, -0.00...  \n",
       "\n",
       "[1 rows x 155 columns]"
      ]
     },
     "execution_count": 143,
     "metadata": {},
     "output_type": "execute_result"
    }
   ],
   "source": [
    "def sentence_transformer_encode_choices(row : pandas.Series, transformer : SentenceTransformer, transformer_name):\n",
    "    choices = row[CHOICE_COLUMN]\n",
    "    for index in range(len(choices)): \n",
    "        if embedding_column(index, transformer_name) in set(row.keys()): continue\n",
    "        row[embedding_column(index, transformer_name)] = transformer.encode(row[sample_column(index)])\n",
    "    return row\n",
    "\n",
    "embedding = pandas.read_json(EMBEDDING_FILE_PATH, lines=True)\n",
    "embedding = embedding.combine_first(graded)\n",
    "\n",
    "embedding = embedding.apply(lambda row : sentence_transformer_encode_choices(row, all_mini_lm_l6_v2, ALL_MIN_LM_16), axis=1)\n",
    "embedding.head(1)"
   ]
  },
  {
   "attachments": {},
   "cell_type": "markdown",
   "metadata": {},
   "source": [
    "### **4.3 Cache embeddings**"
   ]
  },
  {
   "cell_type": "code",
   "execution_count": null,
   "metadata": {},
   "outputs": [],
   "source": [
    "embedding.to_json(EMBEDDING_FILE_PATH, orient='records', lines=True)"
   ]
  },
  {
   "attachments": {},
   "cell_type": "markdown",
   "metadata": {},
   "source": [
    "## **5. Sample selection**\n",
    "### **5.1 Clustering**"
   ]
  },
  {
   "cell_type": "code",
   "execution_count": null,
   "metadata": {},
   "outputs": [],
   "source": [
    "all_mini_lm_16_scores = []\n",
    "average_scores = []\n",
    "\n",
    "for n_jobs in range(1, N_JOBS + 1):\n",
    "    def select_by_clustering(row, transformer_name):\n",
    "        embeddings = []\n",
    "        for index in range(n_jobs): embeddings.append(row[embedding_column(index, transformer_name)])\n",
    "\n",
    "        kmeans = KMeans(n_clusters=1, n_init=10)\n",
    "        kmeans.fit_predict(embeddings)\n",
    "\n",
    "        centroid = kmeans.cluster_centers_[0]\n",
    "\n",
    "        min_distance = float('inf')\n",
    "        min_sample = correct_column(0)\n",
    "\n",
    "        for index, el in enumerate(embeddings):\n",
    "            distance = np.linalg.norm(centroid - el)\n",
    "            if distance < min_distance: \n",
    "                min_distance = distance\n",
    "                min_sample = correct_column(index)\n",
    "        return row[min_sample]\n",
    "    \n",
    "    def get_choice_correct_count(row):\n",
    "        total = 0\n",
    "        for index in range(n_jobs): total += row[correct_column(index)]\n",
    "        return total\n",
    "     \n",
    "    clustering = embedding.apply(lambda row : select_by_clustering(row, ALL_MIN_LM_16), axis=1)\n",
    "    all_mini_lm_16_scores.append(clustering.sum())\n",
    "    \n",
    "    average_performance = embedding.apply(lambda row : get_choice_correct_count(row), axis=1).sum() / n_jobs\n",
    "    average_scores.append(average_performance)"
   ]
  },
  {
   "cell_type": "code",
   "execution_count": null,
   "metadata": {},
   "outputs": [
    {
     "ename": "NameError",
     "evalue": "name 'average_scores' is not defined",
     "output_type": "error",
     "traceback": [
      "\u001b[1;31m---------------------------------------------------------------------------\u001b[0m",
      "\u001b[1;31mNameError\u001b[0m                                 Traceback (most recent call last)",
      "Cell \u001b[1;32mIn[13], line 3\u001b[0m\n\u001b[0;32m      1\u001b[0m disp \u001b[39m=\u001b[39m pandas\u001b[39m.\u001b[39mDataFrame()\n\u001b[0;32m      2\u001b[0m disp[\u001b[39m'\u001b[39m\u001b[39mnumber of samples\u001b[39m\u001b[39m'\u001b[39m] \u001b[39m=\u001b[39m pandas\u001b[39m.\u001b[39mSeries(\u001b[39mrange\u001b[39m(\u001b[39m1\u001b[39m, N_JOBS \u001b[39m+\u001b[39m \u001b[39m1\u001b[39m))\n\u001b[1;32m----> 3\u001b[0m disp[\u001b[39m'\u001b[39m\u001b[39maverage\u001b[39m\u001b[39m'\u001b[39m] \u001b[39m=\u001b[39m pandas\u001b[39m.\u001b[39mSeries(average_scores)\n\u001b[0;32m      4\u001b[0m disp[ALL_MIN_LM_16] \u001b[39m=\u001b[39m pandas\u001b[39m.\u001b[39mSeries(all_mini_lm_16_scores)\n\u001b[0;32m      6\u001b[0m seaborn\u001b[39m.\u001b[39mlineplot(data\u001b[39m=\u001b[39mdisp, x\u001b[39m=\u001b[39m\u001b[39m'\u001b[39m\u001b[39mnumber of samples\u001b[39m\u001b[39m'\u001b[39m, y\u001b[39m=\u001b[39mALL_MIN_LM_16, label\u001b[39m=\u001b[39m\u001b[39mf\u001b[39m\u001b[39m'\u001b[39m\u001b[39m{\u001b[39;00mALL_MIN_LM_16\u001b[39m}\u001b[39;00m\u001b[39m_clustering\u001b[39m\u001b[39m'\u001b[39m)\n",
      "\u001b[1;31mNameError\u001b[0m: name 'average_scores' is not defined"
     ]
    }
   ],
   "source": [
    "disp = pandas.DataFrame()\n",
    "disp['number of samples'] = pandas.Series(range(1, N_JOBS + 1))\n",
    "disp['average'] = pandas.Series(average_scores)\n",
    "disp[ALL_MIN_LM_16] = pandas.Series(all_mini_lm_16_scores)\n",
    "\n",
    "seaborn.lineplot(data=disp, x='number of samples', y=ALL_MIN_LM_16, label=f'{ALL_MIN_LM_16}_clustering')\n",
    "seaborn.lineplot(data=disp, x='number of samples', y='average', label='average')\n",
    "pyplot.show()"
   ]
  }
 ],
 "metadata": {
  "kernelspec": {
   "display_name": "Python 3",
   "language": "python",
   "name": "python3"
  },
  "language_info": {
   "codemirror_mode": {
    "name": "ipython",
    "version": 3
   },
   "file_extension": ".py",
   "mimetype": "text/x-python",
   "name": "python",
   "nbconvert_exporter": "python",
   "pygments_lexer": "ipython3",
   "version": "3.11.3"
  },
  "orig_nbformat": 4
 },
 "nbformat": 4,
 "nbformat_minor": 2
}
